{
 "cells": [
  {
   "cell_type": "code",
   "execution_count": 6,
   "metadata": {},
   "outputs": [],
   "source": [
    "import requests\n",
    "import lxml.html"
   ]
  },
  {
   "cell_type": "code",
   "execution_count": 9,
   "metadata": {},
   "outputs": [],
   "source": [
    "url = \"http://www.cctv.com/special/1018/more_2.html\"\n",
    "res = requests.get(url)\n",
    "text = res.content.decode('gbk')\n",
    "doc = lxml.html.document_fromstring(text)\n",
    "doc.make_links_absolute(url)"
   ]
  },
  {
   "cell_type": "code",
   "execution_count": 24,
   "metadata": {},
   "outputs": [],
   "source": [
    "items = doc.xpath(\"//table[2]//td\")\n",
    "ret = []\n",
    "for item in items:\n",
    "    title = item.xpath(\"./a/text()\")\n",
    "    if len(title) == 0: continue\n",
    "    link = item.xpath(\"./a/@href\")\n",
    "    if len(link) == 0: continue\n",
    "    time = item.xpath(\"./font/text()\")\n",
    "    if len(time) == 0: continue\n",
    "    result = {\"title\":title[0],\"link\":link[0],\"time\":time[0][1:-1]}\n",
    "    ret.append(result)"
   ]
  },
  {
   "cell_type": "code",
   "execution_count": 25,
   "metadata": {},
   "outputs": [],
   "source": [
    "import pandas as pd"
   ]
  },
  {
   "cell_type": "code",
   "execution_count": 26,
   "metadata": {},
   "outputs": [],
   "source": [
    "df = pd.DataFrame(ret)"
   ]
  },
  {
   "cell_type": "code",
   "execution_count": 29,
   "metadata": {},
   "outputs": [],
   "source": [
    "df[['title','time']].to_csv(\"cctvnews2003sars.csv\", index=None)"
   ]
  },
  {
   "cell_type": "code",
   "execution_count": null,
   "metadata": {},
   "outputs": [],
   "source": []
  }
 ],
 "metadata": {
  "kernelspec": {
   "display_name": "Python 3",
   "language": "python",
   "name": "python3"
  },
  "language_info": {
   "codemirror_mode": {
    "name": "ipython",
    "version": 3
   },
   "file_extension": ".py",
   "mimetype": "text/x-python",
   "name": "python",
   "nbconvert_exporter": "python",
   "pygments_lexer": "ipython3",
   "version": "3.7.1"
  }
 },
 "nbformat": 4,
 "nbformat_minor": 2
}
