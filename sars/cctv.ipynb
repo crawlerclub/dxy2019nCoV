{
 "cells": [
  {
   "cell_type": "code",
   "execution_count": 1,
   "metadata": {},
   "outputs": [],
   "source": [
    "import requests\n",
    "import lxml.html"
   ]
  },
  {
   "cell_type": "code",
   "execution_count": 2,
   "metadata": {},
   "outputs": [],
   "source": [
    "url = \"http://www.cctv.com/special/1018/more_2.html\"\n",
    "res = requests.get(url)\n",
    "text = res.content.decode('gbk')\n",
    "doc = lxml.html.document_fromstring(text)\n",
    "doc.make_links_absolute(url)"
   ]
  },
  {
   "cell_type": "code",
   "execution_count": 3,
   "metadata": {},
   "outputs": [],
   "source": [
    "items = doc.xpath(\"//table[2]//td\")\n",
    "ret = []\n",
    "for item in items:\n",
    "    title = item.xpath(\"./a/text()\")\n",
    "    if len(title) == 0: continue\n",
    "    link = item.xpath(\"./a/@href\")\n",
    "    if len(link) == 0: continue\n",
    "    time = item.xpath(\"./font/text()\")\n",
    "    if len(time) == 0: continue\n",
    "    result = {\"title\":title[0],\"link\":link[0],\"time\":time[0][1:-1]}\n",
    "    ret.append(result)"
   ]
  },
  {
   "cell_type": "code",
   "execution_count": 4,
   "metadata": {},
   "outputs": [],
   "source": [
    "import pandas as pd"
   ]
  },
  {
   "cell_type": "code",
   "execution_count": 5,
   "metadata": {},
   "outputs": [],
   "source": [
    "df = pd.DataFrame(ret)"
   ]
  },
  {
   "cell_type": "code",
   "execution_count": 6,
   "metadata": {},
   "outputs": [],
   "source": [
    "df[['title','time']].to_csv(\"cctvnews2003sars.csv\", index=None)"
   ]
  },
  {
   "cell_type": "code",
   "execution_count": 7,
   "metadata": {},
   "outputs": [
    {
     "data": {
      "text/html": [
       "<div>\n",
       "<style scoped>\n",
       "    .dataframe tbody tr th:only-of-type {\n",
       "        vertical-align: middle;\n",
       "    }\n",
       "\n",
       "    .dataframe tbody tr th {\n",
       "        vertical-align: top;\n",
       "    }\n",
       "\n",
       "    .dataframe thead th {\n",
       "        text-align: right;\n",
       "    }\n",
       "</style>\n",
       "<table border=\"1\" class=\"dataframe\">\n",
       "  <thead>\n",
       "    <tr style=\"text-align: right;\">\n",
       "      <th></th>\n",
       "      <th>title</th>\n",
       "      <th>time</th>\n",
       "    </tr>\n",
       "  </thead>\n",
       "  <tbody>\n",
       "    <tr>\n",
       "      <th>0</th>\n",
       "      <td>抗非典英雄模范事迹报告团在京举行首场报告</td>\n",
       "      <td>07月29日 10:56</td>\n",
       "    </tr>\n",
       "    <tr>\n",
       "      <th>1</th>\n",
       "      <td>灾难过后心更齐 北京东城区思政工作显生机</td>\n",
       "      <td>07月29日 10:05</td>\n",
       "    </tr>\n",
       "    <tr>\n",
       "      <th>2</th>\n",
       "      <td>同胞心连心 小汤山医院送锦旗致谢海外侨胞</td>\n",
       "      <td>07月20日 12:07</td>\n",
       "    </tr>\n",
       "    <tr>\n",
       "      <th>3</th>\n",
       "      <td>中国科协表彰防非优秀科技工作者和先进学会</td>\n",
       "      <td>07月18日 17:48</td>\n",
       "    </tr>\n",
       "    <tr>\n",
       "      <th>4</th>\n",
       "      <td>WHO：不要放松警惕 做好非典可能复发的准备</td>\n",
       "      <td>07月18日 13:13</td>\n",
       "    </tr>\n",
       "  </tbody>\n",
       "</table>\n",
       "</div>"
      ],
      "text/plain": [
       "                    title          time\n",
       "0    抗非典英雄模范事迹报告团在京举行首场报告  07月29日 10:56\n",
       "1    灾难过后心更齐 北京东城区思政工作显生机  07月29日 10:05\n",
       "2    同胞心连心 小汤山医院送锦旗致谢海外侨胞  07月20日 12:07\n",
       "3    中国科协表彰防非优秀科技工作者和先进学会  07月18日 17:48\n",
       "4  WHO：不要放松警惕 做好非典可能复发的准备  07月18日 13:13"
      ]
     },
     "execution_count": 7,
     "metadata": {},
     "output_type": "execute_result"
    }
   ],
   "source": [
    "df[['title','time']].head()"
   ]
  },
  {
   "cell_type": "code",
   "execution_count": null,
   "metadata": {},
   "outputs": [],
   "source": []
  }
 ],
 "metadata": {
  "kernelspec": {
   "display_name": "Python 3",
   "language": "python",
   "name": "python3"
  },
  "language_info": {
   "codemirror_mode": {
    "name": "ipython",
    "version": 3
   },
   "file_extension": ".py",
   "mimetype": "text/x-python",
   "name": "python",
   "nbconvert_exporter": "python",
   "pygments_lexer": "ipython3",
   "version": "3.7.1"
  }
 },
 "nbformat": 4,
 "nbformat_minor": 2
}
